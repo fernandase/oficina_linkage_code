{
  "cells": [
    {
      "cell_type": "markdown",
      "metadata": {
        "id": "9s-quwucGagW"
      },
      "source": [
        "# **Aperfeiçoamento de Habilidades**\n",
        "\n",
        "---\n",
        "\n",
        "\n"
      ]
    },
    {
      "cell_type": "markdown",
      "metadata": {
        "id": "-AoQ_TNO1di9"
      },
      "source": [
        "# **IMPORTS**"
      ]
    },
    {
      "cell_type": "code",
      "execution_count": null,
      "metadata": {
        "id": "QpbEBf_1oCkl"
      },
      "outputs": [],
      "source": [
        "import re\n",
        "import pandas as pd\n",
        "import os\n",
        "import glob\n",
        "import getpass\n",
        "import socket\n",
        "import sys\n",
        "import time\n",
        "import datetime\n",
        "import jellyfish\n",
        "import matplotlib.pyplot as plt\n",
        "from tqdm import tqdm"
      ]
    },
    {
      "cell_type": "markdown",
      "metadata": {
        "id": "upgCc3gXybsA"
      },
      "source": [
        "# **DOWNLOAD, INSTALL AND SETUP**"
      ]
    },
    {
      "cell_type": "code",
      "source": [
        "LIB = f\"git clone https://github.com/joseaugustoduarte/linkageColabEnv.git\"\n",
        "if os.system(LIB) != 0: print(f'Error: {LIB}')\n",
        "sys.path.append('/content/linkageColabEnv/')\n",
        "from main import start\n",
        "\n",
        "spark, sc = start()\n",
        "\n",
        "from pyspark.sql import functions as F\n",
        "from pyspark.sql import SQLContext\n",
        "from pyspark.sql import Window\n",
        "from pyspark.sql.types import *"
      ],
      "metadata": {
        "colab": {
          "base_uri": "https://localhost:8080/"
        },
        "id": "XGHhWrrQNccG",
        "outputId": "813d6f75-9fa6-417c-a0ab-fa1edfd3b9de"
      },
      "execution_count": null,
      "outputs": [
        {
          "output_type": "stream",
          "name": "stdout",
          "text": [
            "Limpeza do diretório Raiz, Atualizações do S.O e do PIP: -> OK\n",
            "Download, instalação e configuração do Java 11 -> OK\n",
            "Download, instalação e configuração do Elasticsearch 7.10.2 -> OK\n",
            "Download de datasets -> OK\n",
            "Download, instalação e configuração do Spark 3.5.1 -> OK\n"
          ]
        }
      ]
    },
    {
      "cell_type": "markdown",
      "metadata": {
        "id": "Y4041YVEbUYn"
      },
      "source": [
        "# **FUNÇÕES ÚTEIS**"
      ]
    },
    {
      "cell_type": "markdown",
      "metadata": {
        "id": "Ry9FtOYPa93Z"
      },
      "source": [
        "# **PRÉ-PROCESSAMENTO**"
      ]
    },
    {
      "cell_type": "markdown",
      "source": [
        "## **Exploração**"
      ],
      "metadata": {
        "id": "QcZhAmvxPqxt"
      }
    },
    {
      "cell_type": "markdown",
      "metadata": {
        "id": "8hJMKNlai7VQ"
      },
      "source": [
        "## **Conversão**"
      ]
    },
    {
      "cell_type": "markdown",
      "metadata": {
        "id": "B-Y9GnVsxy4k"
      },
      "source": [
        "##### **Validação da Conversão**"
      ]
    },
    {
      "cell_type": "markdown",
      "metadata": {
        "id": "XH8i8wTebVUO"
      },
      "source": [
        "## **Padronização**"
      ]
    },
    {
      "cell_type": "markdown",
      "metadata": {
        "id": "DF1Kfvr7bVKP"
      },
      "source": [
        "#### **Criação de ID**"
      ]
    },
    {
      "cell_type": "markdown",
      "metadata": {
        "id": "8DG9yVm_xU10"
      },
      "source": [
        "##### **Validação da Criação de ID**"
      ]
    },
    {
      "cell_type": "markdown",
      "source": [
        "#### **Padronização**"
      ],
      "metadata": {
        "id": "IWGKHyGN5LpJ"
      }
    },
    {
      "cell_type": "markdown",
      "metadata": {
        "id": "_RIws734bVrn"
      },
      "source": [
        "##### **Validação da Padronização**"
      ]
    },
    {
      "cell_type": "markdown",
      "metadata": {
        "id": "242IX6GjbVsl"
      },
      "source": [
        "## **Limpeza de Nomes**"
      ]
    },
    {
      "cell_type": "markdown",
      "metadata": {
        "id": "89Dwz_kczCET"
      },
      "source": [
        "##### **Validação da Limpeza de Nomes**"
      ]
    },
    {
      "cell_type": "code",
      "execution_count": null,
      "metadata": {
        "id": "yvtR1urtwM4y"
      },
      "outputs": [],
      "source": [
        "# def remove_special_char(texto):\n",
        "#     texto = str(texto)\n",
        "#     texto = unidecode(texto)\n",
        "#     return texto\n",
        "# # udf_remove_special_char = F.udf(lambda texto: remove_special_char(texto), StringType())\n",
        "# udf_remove_special_char = F.udf(remove_special_char, StringType())"
      ]
    },
    {
      "cell_type": "markdown",
      "metadata": {
        "id": "NFldrHsTy3oo"
      },
      "source": [
        "# **EXTRAÇÃO DE VARIÁVEIS PARA LINKAGE**"
      ]
    },
    {
      "cell_type": "markdown",
      "metadata": {
        "id": "Al46QilfKHhe"
      },
      "source": [
        "# **INDEXAÇÃO**"
      ]
    },
    {
      "cell_type": "code",
      "execution_count": null,
      "metadata": {
        "id": "m6KXZuTBWgRm"
      },
      "outputs": [],
      "source": [
        "from elasticsearch import Elasticsearch, helpers"
      ]
    },
    {
      "cell_type": "code",
      "execution_count": null,
      "metadata": {
        "id": "hgEeoEZLDS8R"
      },
      "outputs": [],
      "source": [
        "# from google.colab import files\n",
        "# uploaded = files.upload()"
      ]
    },
    {
      "cell_type": "code",
      "execution_count": null,
      "metadata": {
        "id": "M9vU-XL5OZUt"
      },
      "outputs": [],
      "source": [
        "BASE_PATH = '/content/linkage_database/indexing_base_select_150k.csv'\n",
        "index = 'base_150k'"
      ]
    },
    {
      "cell_type": "code",
      "execution_count": null,
      "metadata": {
        "id": "-f1BESUzguXN",
        "colab": {
          "base_uri": "https://localhost:8080/"
        },
        "outputId": "e6767456-18bc-4b4a-a627-bf69c56139b2"
      },
      "outputs": [
        {
          "output_type": "stream",
          "name": "stdout",
          "text": [
            "Registros: 150000 | Colunas: 6\n",
            "root\n",
            " |-- id: string (nullable = true)\n",
            " |-- nome: string (nullable = true)\n",
            " |-- mae: string (nullable = true)\n",
            " |-- sexo: string (nullable = true)\n",
            " |-- cod_munic_res: string (nullable = true)\n",
            " |-- dt_nasc: string (nullable = true)\n",
            "\n"
          ]
        }
      ],
      "source": [
        "df = spark.read.csv(BASE_PATH, header=True, multiLine=True)\n",
        "completude(df)\n",
        "df.printSchema()"
      ]
    },
    {
      "cell_type": "code",
      "execution_count": null,
      "metadata": {
        "id": "Q8vRXC59_Om9",
        "colab": {
          "base_uri": "https://localhost:8080/"
        },
        "outputId": "ea763a65-87db-40eb-e9cf-33eb42b01728"
      },
      "outputs": [
        {
          "output_type": "stream",
          "name": "stdout",
          "text": [
            "+---+-----------------------------+--------------------------+----+-------------+----------+\n",
            "|id |nome                         |mae                       |sexo|cod_munic_res|dt_nasc   |\n",
            "+---+-----------------------------+--------------------------+----+-------------+----------+\n",
            "|1  |Anthony Mendes Câmara        |Sara Nascimento Câmara    |M   |330150405    |2007-06-22|\n",
            "|2  |Gustavo Henrique Garcia Sales|Maya Melo Sales           |M   |430175005    |1980-08-25|\n",
            "|3  |Ana Clara Aragão Almeida     |Ana Sophia Azevedo Almeida|F   |330340127    |1976-12-26|\n",
            "+---+-----------------------------+--------------------------+----+-------------+----------+\n",
            "only showing top 3 rows\n",
            "\n"
          ]
        }
      ],
      "source": [
        "df.show(3, False)"
      ]
    },
    {
      "cell_type": "code",
      "execution_count": null,
      "metadata": {
        "id": "04eh7QzoCbPj"
      },
      "outputs": [],
      "source": [
        "h = {\n",
        "    'seq':0,\n",
        "    'name':1,\n",
        "    'mothername':4,\n",
        "    'dtbirth':2,\n",
        "    'sex':3,\n",
        "    'municres':5,\n",
        "}"
      ]
    },
    {
      "cell_type": "code",
      "execution_count": null,
      "metadata": {
        "id": "0pGKrvoziSsH",
        "colab": {
          "base_uri": "https://localhost:8080/"
        },
        "outputId": "10d11e83-33b7-401b-fda7-bb631d87a786"
      },
      "outputs": [
        {
          "output_type": "stream",
          "name": "stdout",
          "text": [
            "Info Elastic: <Elasticsearch([{'host': 'localhost', 'port': 9200}])>\n",
            "{'name': '96a2b990005e', 'cluster_name': 'elasticsearch', 'cluster_uuid': 'j8j-g8TTQ-SDZuTbhkcMBw', 'version': {'number': '7.10.2', 'build_flavor': 'oss', 'build_type': 'tar', 'build_hash': '747e1cc71def077253878a59143c1f785afa92b9', 'build_date': '2021-01-13T00:42:12.435326Z', 'build_snapshot': False, 'lucene_version': '8.7.0', 'minimum_wire_compatibility_version': '6.8.0', 'minimum_index_compatibility_version': '6.0.0-beta1'}, 'tagline': 'You Know, for Search'}\n"
          ]
        }
      ],
      "source": [
        "es = Elasticsearch('http://localhost:9200/',request_timeout=300, max_retries=15, retry_on_timeout=True)\n",
        "print(f'Info Elastic: {es}\\n{es.info()}')"
      ]
    },
    {
      "cell_type": "code",
      "execution_count": null,
      "metadata": {
        "id": "Xb6s0zXNCbR9",
        "colab": {
          "base_uri": "https://localhost:8080/"
        },
        "outputId": "fe2ec855-0a84-49f5-d61b-3f018776bdb3"
      },
      "outputs": [
        {
          "output_type": "stream",
          "name": "stderr",
          "text": [
            "100%|██████████| 150001/150001 [00:01<00:00, 116296.59it/s]\n",
            "/usr/local/lib/python3.10/dist-packages/elasticsearch/connection/base.py:193: ElasticsearchDeprecationWarning: [types removal] Specifying types in bulk requests is deprecated.\n",
            "  warnings.warn(message, category=ElasticsearchDeprecationWarning)\n"
          ]
        }
      ],
      "source": [
        "bulksize = 15*1000*1000\n",
        "\n",
        "f = open(BASE_PATH, 'r')\n",
        "data  = list()\n",
        "header = True\n",
        "arq = f.readlines()\n",
        "for l in tqdm(arq):\n",
        "#####\n",
        "    if header:\n",
        "        header = False\n",
        "        continue\n",
        "    l = l.replace('\\n', '').split(',')\n",
        "    seq = l[h['seq']].strip()\n",
        "    name = l[h['name']].strip()\n",
        "    mothername = l[h['mothername']].strip()\n",
        "    dtbirth = l[h['dtbirth']].strip().replace('-', '')\n",
        "    sex = l[h['sex']].strip()\n",
        "    municres = l[h['municres']].strip()[:6]\n",
        "\n",
        "    content = {\n",
        "        '_index':index,\n",
        "        '_type':'pessoa',\n",
        "        '_id':str(seq),\n",
        "        '_source':{\n",
        "            'name':str(name),\n",
        "            'mothername':str(mothername),\n",
        "            'dtbirth':str(dtbirth),\n",
        "            'sex':str(sex),\n",
        "            'municres':str(municres),\n",
        "        }\n",
        "    }\n",
        "    data.append(content)\n",
        "\n",
        "    # commit after bulksize is reached\n",
        "    if sys.getsizeof(data)*10 > bulksize:\n",
        "        print('entrei no IFF')\n",
        "        force = True\n",
        "        while(force):\n",
        "            print('entrei no while')\n",
        "            try:\n",
        "                print('entrei no try')\n",
        "                helpers.bulk(es, data)\n",
        "                force = False\n",
        "            except:\n",
        "                print('entrei no except')\n",
        "                continue\n",
        "        # clean data\n",
        "        data = list()\n",
        "\n",
        "helpers.bulk(es, data)\n",
        "f.close()"
      ]
    },
    {
      "cell_type": "code",
      "execution_count": null,
      "metadata": {
        "id": "Uj2QK84oCbUe",
        "colab": {
          "base_uri": "https://localhost:8080/"
        },
        "outputId": "fa779ff5-4c11-42a3-a906-9265472d07a7"
      },
      "outputs": [
        {
          "output_type": "execute_result",
          "data": {
            "text/plain": [
              "{'count': 150000,\n",
              " '_shards': {'total': 1, 'successful': 1, 'skipped': 0, 'failed': 0}}"
            ]
          },
          "metadata": {},
          "execution_count": 19
        }
      ],
      "source": [
        "es.count(index=index)"
      ]
    },
    {
      "cell_type": "code",
      "execution_count": null,
      "metadata": {
        "id": "76zKSLw6x2A_"
      },
      "outputs": [],
      "source": [
        "es.transport.close()"
      ]
    },
    {
      "cell_type": "markdown",
      "metadata": {
        "id": "ouqP3OD6N9Px"
      },
      "source": [
        "# **LINKAGE**"
      ]
    },
    {
      "cell_type": "code",
      "execution_count": null,
      "metadata": {
        "id": "GNse8OglGE1i"
      },
      "outputs": [],
      "source": [
        "linkage_name = 'linkage_base_50k_x_base_150k'\n",
        "\n",
        "source_base = '/content/linkage_database/search_base_clean_select_50k.csv'\n",
        "\n",
        "target_base = f\"/content/{linkage_name}/01_linkage_standard/\"\n",
        "\n",
        "if not os.path.exists(target_base):\n",
        "  os.makedirs(target_base)\n",
        "\n",
        "index = \"base_150k\"\n",
        "\n",
        "indexedBaseHeader = \"150k\"\n",
        "\n",
        "sourceBaseHeader = \"50k\""
      ]
    },
    {
      "cell_type": "code",
      "execution_count": null,
      "metadata": {
        "id": "itS2nPpKN7TH"
      },
      "outputs": [],
      "source": [
        "linkage = spark.read.csv(source_base, header=True, sep=\",\", multiLine=True)"
      ]
    },
    {
      "cell_type": "code",
      "execution_count": null,
      "metadata": {
        "id": "4fz6lk-6N7Vj",
        "colab": {
          "base_uri": "https://localhost:8080/"
        },
        "outputId": "b3dc6160-028b-4386-9bb4-90ed0d2d7e55"
      },
      "outputs": [
        {
          "output_type": "stream",
          "name": "stdout",
          "text": [
            "+---+------------------------+-------------------------+----+-------------+----------+\n",
            "|id |nome                    |mae                      |sexo|cod_munic_res|dt_nasc   |\n",
            "+---+------------------------+-------------------------+----+-------------+----------+\n",
            "|1  |Anthony Mendes Câmara   |Sara Nascimento Câmara   |M   |330150405    |2007-06-22|\n",
            "|2  |Guilherme Peixoto Duarte|Kamilly Cavalcante Duarte|M   |231355915    |2006-06-16|\n",
            "|3  |Lucas Farias Leão       |Julia Vasconcelos Leão   |M   |220100205    |1977-02-06|\n",
            "+---+------------------------+-------------------------+----+-------------+----------+\n",
            "only showing top 3 rows\n",
            "\n"
          ]
        }
      ],
      "source": [
        "linkage.show(3, False)"
      ]
    },
    {
      "cell_type": "code",
      "execution_count": null,
      "metadata": {
        "id": "55ugVxaXN7YE",
        "colab": {
          "base_uri": "https://localhost:8080/"
        },
        "outputId": "4113d9a3-3936-410d-8e86-c640f0b8c6e3"
      },
      "outputs": [
        {
          "output_type": "stream",
          "name": "stdout",
          "text": [
            "root\n",
            " |-- id: string (nullable = true)\n",
            " |-- nome: string (nullable = true)\n",
            " |-- mae: string (nullable = true)\n",
            " |-- sexo: string (nullable = true)\n",
            " |-- cod_munic_res: string (nullable = true)\n",
            " |-- dt_nasc: string (nullable = true)\n",
            "\n"
          ]
        }
      ],
      "source": [
        "linkage.printSchema()"
      ]
    },
    {
      "cell_type": "code",
      "execution_count": null,
      "metadata": {
        "id": "lRpnVo47ENMw"
      },
      "outputs": [],
      "source": [
        "h = {\n",
        "    'seq':0,\n",
        "    'name':1,\n",
        "    'mothername':2,\n",
        "    'dtbirth':5,\n",
        "    'sex':3,\n",
        "    'municres':4\n",
        "}"
      ]
    },
    {
      "cell_type": "code",
      "execution_count": null,
      "metadata": {
        "id": "BUaq4ZgpxpRs",
        "colab": {
          "base_uri": "https://localhost:8080/"
        },
        "outputId": "d578037e-e30f-4f02-a8c7-0d8a95f1ad5e"
      },
      "outputs": [
        {
          "output_type": "stream",
          "name": "stdout",
          "text": [
            "Info Elastic: <Elasticsearch([{'host': 'localhost', 'port': 9200}])>\n",
            "{'name': '96a2b990005e', 'cluster_name': 'elasticsearch', 'cluster_uuid': 'j8j-g8TTQ-SDZuTbhkcMBw', 'version': {'number': '7.10.2', 'build_flavor': 'oss', 'build_type': 'tar', 'build_hash': '747e1cc71def077253878a59143c1f785afa92b9', 'build_date': '2021-01-13T00:42:12.435326Z', 'build_snapshot': False, 'lucene_version': '8.7.0', 'minimum_wire_compatibility_version': '6.8.0', 'minimum_index_compatibility_version': '6.0.0-beta1'}, 'tagline': 'You Know, for Search'}\n"
          ]
        }
      ],
      "source": [
        "from elasticsearch import Elasticsearch, helpers\n",
        "es = Elasticsearch('http://localhost:9200/',request_timeout=300, max_retries=15, retry_on_timeout=True)\n",
        "print(f'Info Elastic: {es}\\n{es.info()}')"
      ]
    },
    {
      "cell_type": "code",
      "execution_count": null,
      "metadata": {
        "id": "Y5xD1vqRN7av",
        "colab": {
          "base_uri": "https://localhost:8080/"
        },
        "outputId": "b7a15cc6-264a-4365-f945-15de48ee3540"
      },
      "outputs": [
        {
          "output_type": "stream",
          "name": "stderr",
          "text": [
            "50969it [00:00, 205436.50it/s]\n"
          ]
        }
      ],
      "source": [
        "dic_bases = []\n",
        "\n",
        "with open(source_base, 'r') as base:\n",
        "    header = True\n",
        "    c = 0\n",
        "\n",
        "    for l in tqdm(base):\n",
        "\n",
        "        # If csv contains header as first line, skip it\n",
        "        if header or 'id_' in l:\n",
        "            header = False\n",
        "            continue\n",
        "        c += 1\n",
        "\n",
        "        # Split csv line\n",
        "        l = l.replace('\\n', '').split(',')\n",
        "        # Get each char\n",
        "        seq = l[h['seq']].strip()\n",
        "        name = l[h['name']].strip()\n",
        "        mothername = l[h['mothername']].strip()\n",
        "        dtbirth = l[h['dtbirth']].strip().replace('-', '')\n",
        "        sex = l[h['sex']].strip()\n",
        "        municres = l[h['municres']].strip()[:6]\n",
        "\n",
        "        # If all fields are blanks, then don't add the register, add it otherwise.\n",
        "        if not (name == '' and mothername == '' and dtbirth == '' and sex == '' and municres == ''):\n",
        "            content = {\n",
        "                'seq': str(seq),\n",
        "                'name': str(name),\n",
        "                'mothername': str(mothername),\n",
        "                'dtbirth': str(dtbirth),\n",
        "                'sex': str(sex),\n",
        "                'municres': str(municres)\n",
        "            }\n",
        "            dic_bases.append(content)"
      ]
    },
    {
      "cell_type": "code",
      "execution_count": null,
      "metadata": {
        "id": "Bco9pEg2N7dW"
      },
      "outputs": [],
      "source": [
        "# Exact search on elastic search function\n",
        "def searchExactPerson(name, mothername, municres, dtbirth, sex, startId=0):\n",
        "    global es\n",
        "    content = {\n",
        "        'size': 30,\n",
        "        'query': {\n",
        "            'bool': {\n",
        "                'must': [\n",
        "                    {'match_phrase': {'name': '\"' + name + '\"'}},\n",
        "                    {'match_phrase': {'mothername': '\"' + mothername + '\"'}},\n",
        "                    {'match': {'municres': municres}},\n",
        "                    {'match': {'dtbirth': dtbirth}},\n",
        "                    {'match': {'sex': sex}}\n",
        "                ],\n",
        "            }\n",
        "        }\n",
        "    }\n",
        "    force = True\n",
        "    while force:\n",
        "        try:\n",
        "            res = es.search(index=index, body=content)\n",
        "            force = False\n",
        "        except:\n",
        "            pass\n",
        "    return res['hits']['hits']"
      ]
    },
    {
      "cell_type": "code",
      "execution_count": null,
      "metadata": {
        "id": "rHg0mCwISO83"
      },
      "outputs": [],
      "source": [
        "# Fuzzy search on elastic search function\n",
        "def searchFuzzyPerson(name, mothername, municres, dtbirth, sex, startId=0):\n",
        "    global es\n",
        "    content = {\n",
        "        'size': 100,\n",
        "        'query': {\n",
        "            'bool': {\n",
        "                'should': [\n",
        "                    {'match': {'name': {'query': name, 'fuzziness': 'AUTO', 'operator': 'or', 'boost': '2'}}},\n",
        "                    {'match': {'mothername': {'query': mothername, 'fuzziness': 'AUTO', 'operator': 'or', 'boost': '1.5'}}},\n",
        "                    {'match': {'dtbirth': {'query': dtbirth, 'fuzziness': 'AUTO', 'operator': 'or'}}},\n",
        "                    {'match': {'municres': {'query': municres, 'fuzziness': 'AUTO', 'operator': 'or', 'boost': '0.5'}}},\n",
        "                    {'match': {'sex': {'query': sex, 'fuzziness': 'AUTO', 'operator': 'or'}}}\n",
        "                ],\n",
        "            }\n",
        "        }\n",
        "    }\n",
        "    force = True\n",
        "    while force:\n",
        "        try:\n",
        "            res = es.search(index=index, body=content)\n",
        "            force = False\n",
        "        except:\n",
        "            pass\n",
        "    return res['hits']['hits']"
      ]
    },
    {
      "cell_type": "code",
      "execution_count": null,
      "metadata": {
        "id": "r6l05FptN7gL"
      },
      "outputs": [],
      "source": [
        "def findBestCandidate(candidates, person):\n",
        "    if candidates:\n",
        "        scores = []\n",
        "        for candidate in candidates:\n",
        "            score = compare(candidate['_source'], person)\n",
        "            scores.append((score, candidate))\n",
        "        scores.sort(key=lambda x: x[0], reverse=True)\n",
        "        bestCandidate = scores[0][1]\n",
        "        bestScore = scores[0][0]\n",
        "        bestCandidate['_source']['score'] = bestScore\n",
        "        return bestCandidate\n",
        "    else:\n",
        "        return None"
      ]
    },
    {
      "cell_type": "code",
      "execution_count": null,
      "metadata": {
        "id": "Q8mFSbdjN7i-"
      },
      "outputs": [],
      "source": [
        "def compare(candidate, source):\n",
        "    # Weights\n",
        "    name_w = 1.0\n",
        "    mothername_w = 1.0\n",
        "    state_w = 0.04\n",
        "    municres_w = 0.08\n",
        "    dtbirth_w = 1.0\n",
        "    sex_w = 0.5\n",
        "\n",
        "    # Max score\n",
        "    score_max = name_w + mothername_w + state_w + municres_w + dtbirth_w + sex_w\n",
        "\n",
        "    # Initialize scores and penaly\n",
        "    score_name, score_mothername, score_birth, score_municres, score_sex, penalty = 0, 0, 0, 0, 0, 0\n",
        "\n",
        "    # Compare individuals name with jaro distance\n",
        "    score_name = jellyfish.jaro_winkler_similarity(candidate['name'], source['name']) * name_w\n",
        "\n",
        "    # Compare individuals mothername with jaro distance\n",
        "    score_mothername = jellyfish.jaro_winkler_similarity(candidate['mothername'], source['mothername']) * mothername_w\n",
        "\n",
        "    # Compare individuals birthdate\n",
        "    if candidate['dtbirth'] == '' or source['dtbirth'] == '':\n",
        "        score_max -= dtbirth_w\n",
        "        penalty = penalty + 0.05\n",
        "    else:\n",
        "        score_birth = (1.0 - float(jellyfish.hamming_distance(candidate['dtbirth'], source['dtbirth'])) / max(len(candidate['dtbirth']), len(source['dtbirth'])))\n",
        "\n",
        "    # Compare individuals sex\n",
        "    if candidate['sex'] in ['', '88', '99'] or source['sex'] in ['', '88', '99']:\n",
        "        score_max -= sex_w\n",
        "        penalty = penalty + 0.01\n",
        "    elif candidate['sex'] == source['sex']:\n",
        "        score_sex = sex_w\n",
        "\n",
        "   # Compare municipality\n",
        "    if candidate['municres'] == '' or source['municres'] == '':\n",
        "        score_max -= (state_w+municres_w)\n",
        "        penalty += 0.02\n",
        "    else:\n",
        "        if candidate['municres'][0:2] == source['municres'][0:2]:\n",
        "            score_municres += state_w\n",
        "            # City would be the same only if state is the same\n",
        "            if candidate['municres'][2:6] == source['municres'][2:6]:\n",
        "                score_municres += municres_w\n",
        "\n",
        "    # Calculate score\n",
        "    score = ((score_name + score_mothername + score_birth + score_sex + score_municres) / score_max) - penalty\n",
        "    return score"
      ]
    },
    {
      "cell_type": "code",
      "execution_count": null,
      "metadata": {
        "id": "bRPW157-SStO"
      },
      "outputs": [],
      "source": [
        "def cidacsrl(source):\n",
        "    result = ''\n",
        "    # Perform exact search\n",
        "    candidates = searchExactPerson(name=source['name'], mothername=source['mothername'], municres=source['municres'], dtbirth=source['dtbirth'], sex=source['sex'])\n",
        "    if candidates:\n",
        "        bestCandidate = findBestCandidate(candidates, source)\n",
        "        # If score > 0.95 treat candidate as exact match\n",
        "        if bestCandidate['_source']['score'] >= .95:\n",
        "            score = str(bestCandidate['_source']['score'])\n",
        "            fields = [bestCandidate['_id'], source['seq'], bestCandidate['_source']['name'], source['name'], bestCandidate['_source']['mothername'], source['mothername'], bestCandidate['_source']['municres'], source['municres'], bestCandidate['_source']['dtbirth'], source['dtbirth'], bestCandidate['_source']['sex'], source['sex'], score]\n",
        "            result = ','.join(fields) + '\\n'\n",
        "    # If no candidate is selected, perform fuzzy search\n",
        "    if result == '':\n",
        "        candidates = searchFuzzyPerson(name=source['name'], mothername=source['mothername'], municres=source['municres'], dtbirth=source['dtbirth'], sex=source['sex'])\n",
        "        bestCandidate = findBestCandidate(candidates, source)\n",
        "        if bestCandidate:\n",
        "            score = str(bestCandidate['_source']['score'])\n",
        "            fields = [bestCandidate['_id'], source['seq'], bestCandidate['_source']['name'], source['name'], bestCandidate['_source']['mothername'], source['mothername'], bestCandidate['_source']['municres'], source['municres'], bestCandidate['_source']['dtbirth'], source['dtbirth'], bestCandidate['_source']['sex'], source['sex'], score]\n",
        "            result = ','.join(fields) + '\\n'\n",
        "    return result"
      ]
    },
    {
      "cell_type": "code",
      "execution_count": null,
      "metadata": {
        "id": "o8ye77tQSWIP"
      },
      "outputs": [],
      "source": [
        "# Build datamart header\n",
        "headerFields = ['seq', 'name', 'mothername', 'municres', 'dtbirth', 'sex']\n",
        "larger = [x + '_' + indexedBaseHeader for x in headerFields]\n",
        "smaller = [x + '_' + sourceBaseHeader for x in headerFields]\n",
        "l = []\n",
        "for i in range(len(larger)):\n",
        "    l.append(larger[i])\n",
        "    l.append(smaller[i])\n",
        "l.append('score')\n",
        "header = ','.join(l)"
      ]
    },
    {
      "cell_type": "code",
      "execution_count": null,
      "metadata": {
        "id": "uFxQ8JwoSYVE"
      },
      "outputs": [],
      "source": [
        "def writeLinkageLocal(target_file, header, result):\n",
        "  f = open(target_file, 'w')\n",
        "  f.write((header + '\\n'))\n",
        "  for line in tqdm(result):\n",
        "      f.write(line)\n",
        "  f.close()"
      ]
    },
    {
      "cell_type": "code",
      "execution_count": null,
      "metadata": {
        "id": "gDWizUIZSduv",
        "colab": {
          "base_uri": "https://localhost:8080/"
        },
        "outputId": "de979d8c-afea-474a-ae7b-06aad232cbfe"
      },
      "outputs": [
        {
          "output_type": "stream",
          "name": "stderr",
          "text": [
            "Done: 100.00% | Records: 50968/50968 | Estimated time: 0:00:00 | Elapsed time: 0:19:12.590605"
          ]
        },
        {
          "output_type": "stream",
          "name": "stdout",
          "text": [
            "\n",
            "Salvando linkage em:\n",
            " /content/linkage_base_50k_x_base_150k/01_linkage_standard/linkage_base_50k_x_base_150k.csv\n"
          ]
        },
        {
          "output_type": "stream",
          "name": "stderr",
          "text": [
            "100%|██████████| 50968/50968 [00:00<00:00, 788152.33it/s]"
          ]
        },
        {
          "output_type": "stream",
          "name": "stdout",
          "text": [
            "\n",
            "\n"
          ]
        },
        {
          "output_type": "stream",
          "name": "stderr",
          "text": [
            "\n"
          ]
        }
      ],
      "source": [
        "from multiprocessing.dummy import Pool as ThreadPool\n",
        "\n",
        "targetFile = f\"{target_base}{linkage_name}.csv\"\n",
        "\n",
        "marker = time.time()\n",
        "marker_log = datetime.datetime.now()\n",
        "num_tasks = len(dic_bases)\n",
        "result = []\n",
        "c, elapsed_time = 0, 0\n",
        "with ThreadPool() as pool:\n",
        "  for j, x in enumerate(pool.imap_unordered(cidacsrl, dic_bases)):\n",
        "      result.append(x)\n",
        "      c += 1\n",
        "      elapsed_time = time.time() - marker\n",
        "      done = len(result)/num_tasks*100\n",
        "\n",
        "      estimated = str(datetime.timedelta(seconds = (num_tasks-c) * (elapsed_time/c)))\n",
        "      sys.stderr.write(f\"\\rDone: {done:.2f}% | Records: {len(result)}/{len(dic_bases)} | Estimated time: {estimated} | Elapsed time: {str(datetime.timedelta(seconds=time.time()-marker))}\")\n",
        "\n",
        "print('\\nSalvando linkage em:\\n', targetFile)\n",
        "time_linkage=datetime.datetime.now()-marker_log\n",
        "\n",
        "# Linkage writing function, if there is a failure the file will be saved in the temporary directory\n",
        "writeLinkageLocal(target_file=targetFile, header=header, result=result)\n",
        "\n",
        "print('\\n')"
      ]
    },
    {
      "cell_type": "code",
      "execution_count": null,
      "metadata": {
        "id": "Q-EeE9UxcVwF"
      },
      "outputs": [],
      "source": [
        "PATH = '/content/linkage_base_50k_x_base_150k/01_linkage_standard/linkage_base_50k_x_base_150k.csv'"
      ]
    },
    {
      "cell_type": "code",
      "execution_count": null,
      "metadata": {
        "id": "1u8pEUk_2W6y",
        "colab": {
          "base_uri": "https://localhost:8080/",
          "height": 17
        },
        "outputId": "7426e1ca-b370-4fe1-807a-963bc4fbd30e"
      },
      "outputs": [
        {
          "output_type": "display_data",
          "data": {
            "text/plain": [
              "<IPython.core.display.Javascript object>"
            ],
            "application/javascript": [
              "\n",
              "    async function download(id, filename, size) {\n",
              "      if (!google.colab.kernel.accessAllowed) {\n",
              "        return;\n",
              "      }\n",
              "      const div = document.createElement('div');\n",
              "      const label = document.createElement('label');\n",
              "      label.textContent = `Downloading \"${filename}\": `;\n",
              "      div.appendChild(label);\n",
              "      const progress = document.createElement('progress');\n",
              "      progress.max = size;\n",
              "      div.appendChild(progress);\n",
              "      document.body.appendChild(div);\n",
              "\n",
              "      const buffers = [];\n",
              "      let downloaded = 0;\n",
              "\n",
              "      const channel = await google.colab.kernel.comms.open(id);\n",
              "      // Send a message to notify the kernel that we're ready.\n",
              "      channel.send({})\n",
              "\n",
              "      for await (const message of channel.messages) {\n",
              "        // Send a message to notify the kernel that we're ready.\n",
              "        channel.send({})\n",
              "        if (message.buffers) {\n",
              "          for (const buffer of message.buffers) {\n",
              "            buffers.push(buffer);\n",
              "            downloaded += buffer.byteLength;\n",
              "            progress.value = downloaded;\n",
              "          }\n",
              "        }\n",
              "      }\n",
              "      const blob = new Blob(buffers, {type: 'application/binary'});\n",
              "      const a = document.createElement('a');\n",
              "      a.href = window.URL.createObjectURL(blob);\n",
              "      a.download = filename;\n",
              "      div.appendChild(a);\n",
              "      a.click();\n",
              "      div.remove();\n",
              "    }\n",
              "  "
            ]
          },
          "metadata": {}
        },
        {
          "output_type": "display_data",
          "data": {
            "text/plain": [
              "<IPython.core.display.Javascript object>"
            ],
            "application/javascript": [
              "download(\"download_c00706c6-dc45-450d-b3d5-294741fe9976\", \"linkage_base_50k_x_base_150k.csv\", 8499033)"
            ]
          },
          "metadata": {}
        }
      ],
      "source": [
        "from google.colab import files\n",
        "files.download(PATH)"
      ]
    },
    {
      "cell_type": "code",
      "execution_count": null,
      "metadata": {
        "id": "U-nluCFYVBqf"
      },
      "outputs": [],
      "source": [
        "es.transport.close()"
      ]
    },
    {
      "cell_type": "markdown",
      "metadata": {
        "id": "I46DGgXHNTIl"
      },
      "source": [
        "# **VALIDAÇÃO DO LINKAGE**"
      ]
    },
    {
      "cell_type": "code",
      "source": [
        "PATH = '/content/linkage_database/linkage_base_50k_x_base_150k.csv'"
      ],
      "metadata": {
        "id": "cHq7_ksrUwH0"
      },
      "execution_count": null,
      "outputs": []
    },
    {
      "cell_type": "code",
      "execution_count": null,
      "metadata": {
        "id": "6yUWj99vTlL4"
      },
      "outputs": [],
      "source": [
        "linkage = spark.read.csv(PATH, header=True, sep=\",\", multiLine=True)\\\n",
        "    .withColumn('score', F.col('score').cast(DoubleType()))"
      ]
    },
    {
      "cell_type": "code",
      "execution_count": null,
      "metadata": {
        "id": "1GIUu6lSCXyu",
        "colab": {
          "base_uri": "https://localhost:8080/"
        },
        "outputId": "98483049-a104-4147-be32-8b366cb46142"
      },
      "outputs": [
        {
          "output_type": "stream",
          "name": "stdout",
          "text": [
            "+--------+-------+-----------------------------+-----------------------------+---------------+-------------------------------+-------------+------------+-------------------------------+-----------+--------+-------+------------------+\n",
            "|seq_150k|seq_50k|name_150k                    |name_50k                     |mothername_150k|mothername_50k                 |municres_150k|municres_50k|dtbirth_150k                   |dtbirth_50k|sex_150k|sex_50k|score             |\n",
            "+--------+-------+-----------------------------+-----------------------------+---------------+-------------------------------+-------------+------------+-------------------------------+-----------+--------+-------+------------------+\n",
            "|1       |1      |Anthony Mendes Câmara        |Anthony Mendes Câmara        |330150405      |Sara Nascimento Câmara         |2007-0       |330150      |Sara Nascimento Câmara         |20070622   |M       |M      |0.4143646408839779|\n",
            "|9       |2      |Guilherme Peixoto Duarte     |Guilherme Peixoto Duarte     |231355915      |Kamilly Cavalcante Duarte      |2006-0       |231355      |Kamilly Cavalcante Duarte      |20060616   |M       |M      |0.4143646408839779|\n",
            "|11      |4      |Sophia Novaes Dias           |Sophia Novaes Dias           |210330715      |Sophie Rodrigues Dias          |2015-0       |210330      |Sophie Rodrigues Dias          |20150710   |F       |F      |0.4143646408839779|\n",
            "|10      |3      |Lucas Farias Leão            |Lucas Farias Leão            |220100205      |Julia Vasconcelos Leão         |1977-0       |220100      |Julia Vasconcelos Leão         |19770206   |M       |M      |0.4143646408839779|\n",
            "|21      |6      |Manuela da Paz SAMPAIO Câmara|Manuela da Paz SAMPAIO Câmara|312330405      |Milena Rios Câmara             |2014-0       |312330      |Milena Rios Câmara             |20140413   |F       |F      |0.4143646408839779|\n",
            "|12      |5      |Emanuel Andrade Teixeira     |Emanuel Andrade Teixeira     |172120805      |Kamilly Sá Teixeira            |1994-0       |172120      |Kamilly Sá Teixeira            |19940628   |M       |M      |0.4143646408839779|\n",
            "|23      |7      |Sabrina Mendonça Pinto       |Sabrina Mendonça Pinto       |510760210      |Maya Porto Pinto               |2012-1       |510760      |Maya Porto Pinto               |20121125   |F       |F      |0.4143646408839779|\n",
            "|25      |8      |Sabrina Ramos Costa          |Sabrina Ramos Costa          |352230715      |Antonella da Mota CAMARGO Costa|1990-0       |352230      |Antonella da Mota CAMARGO Costa|19900105   |F       |F      |0.4143646408839779|\n",
            "|26      |9      |Asafe Pereira Cavalcante     |Asafe Pereira Cavalcante     |230790805      |Ana Beatriz Cunha Cavalcante   |1998-0       |230790      |Ana Beatriz Cunha Cavalcante   |19980111   |M       |M      |0.4143646408839779|\n",
            "|28      |10     |João Lucas Teixeira Santos   |João Lucas Teixeira Santos   |261255425      |Melissa Cirino Santos          |1994-1       |261255      |Melissa Cirino Santos          |19941207   |M       |M      |0.4143646408839779|\n",
            "+--------+-------+-----------------------------+-----------------------------+---------------+-------------------------------+-------------+------------+-------------------------------+-----------+--------+-------+------------------+\n",
            "only showing top 10 rows\n",
            "\n"
          ]
        }
      ],
      "source": [
        "linkage.show(10, False)"
      ]
    },
    {
      "cell_type": "code",
      "execution_count": null,
      "metadata": {
        "id": "ZqavCveWTlTF",
        "colab": {
          "base_uri": "https://localhost:8080/"
        },
        "outputId": "31c840fd-1049-493a-ed99-322a79aa94bf"
      },
      "outputs": [
        {
          "output_type": "stream",
          "name": "stdout",
          "text": [
            "Records: 50968 | Variables: 13\n",
            "\n",
            "root\n",
            " |-- seq_150k: string (nullable = true)\n",
            " |-- seq_50k: string (nullable = true)\n",
            " |-- name_150k: string (nullable = true)\n",
            " |-- name_50k: string (nullable = true)\n",
            " |-- mothername_150k: string (nullable = true)\n",
            " |-- mothername_50k: string (nullable = true)\n",
            " |-- municres_150k: string (nullable = true)\n",
            " |-- municres_50k: string (nullable = true)\n",
            " |-- dtbirth_150k: string (nullable = true)\n",
            " |-- dtbirth_50k: string (nullable = true)\n",
            " |-- sex_150k: string (nullable = true)\n",
            " |-- sex_50k: string (nullable = true)\n",
            " |-- score: double (nullable = true)\n",
            "\n"
          ]
        }
      ],
      "source": [
        "LINKAGE_COUNT = linkage.count()\n",
        "print(f\"Records: {LINKAGE_COUNT} | Variables: {len(linkage.columns)}\\n\")\n",
        "linkage.printSchema()"
      ]
    },
    {
      "cell_type": "code",
      "execution_count": null,
      "metadata": {
        "id": "63HthEPYTlZx",
        "colab": {
          "base_uri": "https://localhost:8080/",
          "height": 98
        },
        "outputId": "99adbf30-36c7-4c31-ff53-e34abe4f6eb4"
      },
      "outputs": [
        {
          "output_type": "stream",
          "name": "stdout",
          "text": [
            "Records with scores above 0.92: 0.00%\n"
          ]
        },
        {
          "output_type": "execute_result",
          "data": {
            "text/plain": [
              "  faixa_score  count      %\n",
              "0         0.4  50968  100.0"
            ],
            "text/html": [
              "\n",
              "  <div id=\"df-91e2b6b0-f9df-458a-9cdb-e6dc96cd736a\" class=\"colab-df-container\">\n",
              "    <div>\n",
              "<style scoped>\n",
              "    .dataframe tbody tr th:only-of-type {\n",
              "        vertical-align: middle;\n",
              "    }\n",
              "\n",
              "    .dataframe tbody tr th {\n",
              "        vertical-align: top;\n",
              "    }\n",
              "\n",
              "    .dataframe thead th {\n",
              "        text-align: right;\n",
              "    }\n",
              "</style>\n",
              "<table border=\"1\" class=\"dataframe\">\n",
              "  <thead>\n",
              "    <tr style=\"text-align: right;\">\n",
              "      <th></th>\n",
              "      <th>faixa_score</th>\n",
              "      <th>count</th>\n",
              "      <th>%</th>\n",
              "    </tr>\n",
              "  </thead>\n",
              "  <tbody>\n",
              "    <tr>\n",
              "      <th>0</th>\n",
              "      <td>0.4</td>\n",
              "      <td>50968</td>\n",
              "      <td>100.0</td>\n",
              "    </tr>\n",
              "  </tbody>\n",
              "</table>\n",
              "</div>\n",
              "    <div class=\"colab-df-buttons\">\n",
              "\n",
              "  <div class=\"colab-df-container\">\n",
              "    <button class=\"colab-df-convert\" onclick=\"convertToInteractive('df-91e2b6b0-f9df-458a-9cdb-e6dc96cd736a')\"\n",
              "            title=\"Convert this dataframe to an interactive table.\"\n",
              "            style=\"display:none;\">\n",
              "\n",
              "  <svg xmlns=\"http://www.w3.org/2000/svg\" height=\"24px\" viewBox=\"0 -960 960 960\">\n",
              "    <path d=\"M120-120v-720h720v720H120Zm60-500h600v-160H180v160Zm220 220h160v-160H400v160Zm0 220h160v-160H400v160ZM180-400h160v-160H180v160Zm440 0h160v-160H620v160ZM180-180h160v-160H180v160Zm440 0h160v-160H620v160Z\"/>\n",
              "  </svg>\n",
              "    </button>\n",
              "\n",
              "  <style>\n",
              "    .colab-df-container {\n",
              "      display:flex;\n",
              "      gap: 12px;\n",
              "    }\n",
              "\n",
              "    .colab-df-convert {\n",
              "      background-color: #E8F0FE;\n",
              "      border: none;\n",
              "      border-radius: 50%;\n",
              "      cursor: pointer;\n",
              "      display: none;\n",
              "      fill: #1967D2;\n",
              "      height: 32px;\n",
              "      padding: 0 0 0 0;\n",
              "      width: 32px;\n",
              "    }\n",
              "\n",
              "    .colab-df-convert:hover {\n",
              "      background-color: #E2EBFA;\n",
              "      box-shadow: 0px 1px 2px rgba(60, 64, 67, 0.3), 0px 1px 3px 1px rgba(60, 64, 67, 0.15);\n",
              "      fill: #174EA6;\n",
              "    }\n",
              "\n",
              "    .colab-df-buttons div {\n",
              "      margin-bottom: 4px;\n",
              "    }\n",
              "\n",
              "    [theme=dark] .colab-df-convert {\n",
              "      background-color: #3B4455;\n",
              "      fill: #D2E3FC;\n",
              "    }\n",
              "\n",
              "    [theme=dark] .colab-df-convert:hover {\n",
              "      background-color: #434B5C;\n",
              "      box-shadow: 0px 1px 3px 1px rgba(0, 0, 0, 0.15);\n",
              "      filter: drop-shadow(0px 1px 2px rgba(0, 0, 0, 0.3));\n",
              "      fill: #FFFFFF;\n",
              "    }\n",
              "  </style>\n",
              "\n",
              "    <script>\n",
              "      const buttonEl =\n",
              "        document.querySelector('#df-91e2b6b0-f9df-458a-9cdb-e6dc96cd736a button.colab-df-convert');\n",
              "      buttonEl.style.display =\n",
              "        google.colab.kernel.accessAllowed ? 'block' : 'none';\n",
              "\n",
              "      async function convertToInteractive(key) {\n",
              "        const element = document.querySelector('#df-91e2b6b0-f9df-458a-9cdb-e6dc96cd736a');\n",
              "        const dataTable =\n",
              "          await google.colab.kernel.invokeFunction('convertToInteractive',\n",
              "                                                    [key], {});\n",
              "        if (!dataTable) return;\n",
              "\n",
              "        const docLinkHtml = 'Like what you see? Visit the ' +\n",
              "          '<a target=\"_blank\" href=https://colab.research.google.com/notebooks/data_table.ipynb>data table notebook</a>'\n",
              "          + ' to learn more about interactive tables.';\n",
              "        element.innerHTML = '';\n",
              "        dataTable['output_type'] = 'display_data';\n",
              "        await google.colab.output.renderOutput(dataTable, element);\n",
              "        const docLink = document.createElement('div');\n",
              "        docLink.innerHTML = docLinkHtml;\n",
              "        element.appendChild(docLink);\n",
              "      }\n",
              "    </script>\n",
              "  </div>\n",
              "\n",
              "\n",
              "    </div>\n",
              "  </div>\n"
            ],
            "application/vnd.google.colaboratory.intrinsic+json": {
              "type": "dataframe",
              "summary": "{\n  \"name\": \"            \",\n  \"rows\": 1,\n  \"fields\": [\n    {\n      \"column\": \"faixa_score\",\n      \"properties\": {\n        \"dtype\": \"string\",\n        \"num_unique_values\": 1,\n        \"samples\": [\n          \"0.4\"\n        ],\n        \"semantic_type\": \"\",\n        \"description\": \"\"\n      }\n    },\n    {\n      \"column\": \"count\",\n      \"properties\": {\n        \"dtype\": \"number\",\n        \"std\": null,\n        \"min\": 50968,\n        \"max\": 50968,\n        \"num_unique_values\": 1,\n        \"samples\": [\n          50968\n        ],\n        \"semantic_type\": \"\",\n        \"description\": \"\"\n      }\n    },\n    {\n      \"column\": \"%\",\n      \"properties\": {\n        \"dtype\": \"number\",\n        \"std\": null,\n        \"min\": 100.0,\n        \"max\": 100.0,\n        \"num_unique_values\": 1,\n        \"samples\": [\n          100.0\n        ],\n        \"semantic_type\": \"\",\n        \"description\": \"\"\n      }\n    }\n  ]\n}"
            }
          },
          "metadata": {},
          "execution_count": 23
        }
      ],
      "source": [
        "print(f\"Records with scores above 0.92: {(linkage.filter(linkage.score >= 0.92).count() / LINKAGE_COUNT * 100):.2f}%\")\n",
        "linkage.groupBy(F.substring('score', 1, 3).alias('faixa_score')).count()\\\n",
        "            .withColumn('%', F.round(F.col('count') / LINKAGE_COUNT * 100, 3))\\\n",
        "            .orderBy(F.col('faixa_score').desc()).toPandas()"
      ]
    },
    {
      "cell_type": "code",
      "execution_count": null,
      "metadata": {
        "id": "5iPlwezDTlcc",
        "colab": {
          "base_uri": "https://localhost:8080/",
          "height": 492
        },
        "outputId": "aa2ed60d-4bc4-4f3d-bca2-b2197323ab4a"
      },
      "outputs": [
        {
          "output_type": "display_data",
          "data": {
            "text/plain": [
              "<Figure size 2400x800 with 1 Axes>"
            ],
            "image/png": "[encoded data removed]"
          },
          "metadata": {}
        }
      ],
      "source": [
        "plt.style.use('ggplot')\n",
        "f, ax = plt.subplots(figsize=(24,8))\n",
        "score_pd = linkage.select('score').sample(False, 0.99, 42).toPandas().apply(pd.to_numeric)\n",
        "score_pd.plot(kind='hist',ax=ax,bins=70,fontsize=15)\n",
        "plt.show()"
      ]
    },
    {
      "cell_type": "code",
      "execution_count": null,
      "metadata": {
        "id": "FBkTPyF9TlfE",
        "colab": {
          "base_uri": "https://localhost:8080/"
        },
        "outputId": "8e782691-ae07-4c94-ee44-b11d7a6c348a"
      },
      "outputs": [
        {
          "output_type": "stream",
          "name": "stdout",
          "text": [
            "+--------+-------+---------+--------+---------------+--------------+-------------+------------+------------+-----------+--------+-------+-----+\n",
            "|seq_150k|seq_50k|name_150k|name_50k|mothername_150k|mothername_50k|municres_150k|municres_50k|dtbirth_150k|dtbirth_50k|sex_150k|sex_50k|score|\n",
            "+--------+-------+---------+--------+---------------+--------------+-------------+------------+------------+-----------+--------+-------+-----+\n",
            "+--------+-------+---------+--------+---------------+--------------+-------------+------------+------------+-----------+--------+-------+-----+\n",
            "\n",
            "+-----+-----+\n",
            "|score|count|\n",
            "+-----+-----+\n",
            "+-----+-----+\n",
            "\n"
          ]
        }
      ],
      "source": [
        "inconsistent_scores = linkage.filter((F.col('score') > 1) | (F.col('score') < 0))\n",
        "\n",
        "inconsistent_scores.show(100, False)\n",
        "\n",
        "inconsistent_scores.groupBy('score').count().show()"
      ]
    },
    {
      "cell_type": "code",
      "execution_count": null,
      "metadata": {
        "id": "-FjCewbPWlY-",
        "colab": {
          "base_uri": "https://localhost:8080/"
        },
        "outputId": "9dfe9589-8555-4d54-8a3b-131518a3e8f9"
      },
      "outputs": [
        {
          "output_type": "stream",
          "name": "stdout",
          "text": [
            "Registros com todos atributos iguais, porém com score diferente de 1: 0\n"
          ]
        }
      ],
      "source": [
        "name_columns = [col for col in linkage.columns if col.startswith('name')]\n",
        "mothername_columns = [col for col in linkage.columns if col.startswith('mothername')]\n",
        "dtbirth_columns = [col for col in linkage.columns if col.startswith('dtbirth')]\n",
        "sex_columns = [col for col in linkage.columns if col.startswith('sex')]\n",
        "codmunres_columns = [col for col in linkage.columns if col.startswith('municres')]\n",
        "\n",
        "inconsistents_scores = linkage.filter(\n",
        "    (F.col(name_columns[0]) == F.col(name_columns[1])) &\n",
        "    (F.col(mothername_columns[0]) == F.col(mothername_columns[1])) &\n",
        "    (F.col(dtbirth_columns[0]) == F.col(dtbirth_columns[1])) &\n",
        "    (F.col(sex_columns[0]) == F.col(sex_columns[1])) &\n",
        "    (F.col(codmunres_columns[0]) == F.col(codmunres_columns[1])) &\n",
        "    (F.col('score') != 1)\n",
        ")\n",
        "\n",
        "INCONSISTENTS_SCORES_COUNT = inconsistents_scores.count()\n",
        "print(f\"Registros com todos atributos iguais, porém com score diferente de 1: {INCONSISTENTS_SCORES_COUNT}\")\n",
        "if INCONSISTENTS_SCORES_COUNT > 0: cidacs.show(inconsistents_scores)"
      ]
    },
    {
      "cell_type": "code",
      "execution_count": null,
      "metadata": {
        "id": "gBb40RsQXFPx",
        "colab": {
          "base_uri": "https://localhost:8080/"
        },
        "outputId": "a4bc83bb-df7e-487c-ceb0-48233b4a1e60"
      },
      "outputs": [
        {
          "output_type": "stream",
          "name": "stdout",
          "text": [
            "Registros com atributos diferentes, porém score igual a 1: 0\n"
          ]
        }
      ],
      "source": [
        "inconsistents_scores = linkage.filter(\n",
        "    (\n",
        "        (F.col(name_columns[0]) != F.col(name_columns[1])) |\n",
        "        (F.col(mothername_columns[0]) != F.col(mothername_columns[1])) |\n",
        "        (F.col(dtbirth_columns[0]) != F.col(dtbirth_columns[1])) |\n",
        "        (F.col(sex_columns[0]) != F.col(sex_columns[1])) |\n",
        "        (F.col(codmunres_columns[0]) != F.col(codmunres_columns[1]))\n",
        "    ) & (F.col('score') == 1)\n",
        ")\n",
        "\n",
        "INCONSISTENTS_SCORES_COUNT = inconsistents_scores.count()\n",
        "print(f\"Registros com atributos diferentes, porém score igual a 1: {INCONSISTENTS_SCORES_COUNT}\")\n",
        "if INCONSISTENTS_SCORES_COUNT > 0: cidacs.show(inconsistents_scores)"
      ]
    },
    {
      "cell_type": "markdown",
      "metadata": {
        "id": "d4K4UmBJNgeR"
      },
      "source": [
        "# **DATAMART COM LINKADOS**"
      ]
    }
  ],
  "metadata": {
    "colab": {
      "collapsed_sections": [
        "-AoQ_TNO1di9",
        "upgCc3gXybsA",
        "DF1Kfvr7bVKP",
        "IWGKHyGN5LpJ",
        "89Dwz_kczCET",
        "Al46QilfKHhe",
        "ouqP3OD6N9Px",
        "I46DGgXHNTIl"
      ],
      "provenance": []
    },
    "gpuClass": "standard",
    "kernelspec": {
      "display_name": "Python 3",
      "name": "python3"
    }
  },
  "nbformat": 4,
  "nbformat_minor": 0
}